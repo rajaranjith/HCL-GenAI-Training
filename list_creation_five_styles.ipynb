{
  "cells": [
    {
      "cell_type": "markdown",
      "metadata": {
        "id": "view-in-github",
        "colab_type": "text"
      },
      "source": [
        "<a href=\"https://colab.research.google.com/github/rajaranjith/HCL-GenAI-Training/blob/main/list_creation_five_styles.ipynb\" target=\"_parent\"><img src=\"https://colab.research.google.com/assets/colab-badge.svg\" alt=\"Open In Colab\"/></a>"
      ]
    },
    {
      "cell_type": "code",
      "execution_count": null,
      "id": "b4662c88",
      "metadata": {
        "id": "b4662c88",
        "outputId": "6b8e60ef-ac37-4d8d-c69e-06e8bdf8ccd3"
      },
      "outputs": [
        {
          "name": "stdout",
          "output_type": "stream",
          "text": [
            "[34, 56, 77, 99, 87, 100]\n"
          ]
        }
      ],
      "source": [
        "newlist = [34,56,77,99,87,100]\n",
        "print(newlist)"
      ]
    },
    {
      "cell_type": "code",
      "execution_count": null,
      "id": "9baa5926",
      "metadata": {
        "id": "9baa5926",
        "outputId": "8165f88f-cbde-4f55-9ba8-cd9cb32211b2"
      },
      "outputs": [
        {
          "name": "stdout",
          "output_type": "stream",
          "text": [
            "[34, 56, 77, 99, 87, 100]\n"
          ]
        }
      ],
      "source": [
        "listone = list([34,56,77,99,87,100])\n",
        "print(listone)"
      ]
    },
    {
      "cell_type": "code",
      "execution_count": null,
      "id": "53f0ea01",
      "metadata": {
        "id": "53f0ea01",
        "outputId": "e26cfa19-05fd-4753-89e4-4532479a715d"
      },
      "outputs": [
        {
          "name": "stdout",
          "output_type": "stream",
          "text": [
            "[]\n"
          ]
        }
      ],
      "source": [
        "listtwo = list()\n",
        "print(listtwo)"
      ]
    },
    {
      "cell_type": "code",
      "execution_count": null,
      "id": "f0fec251",
      "metadata": {
        "id": "f0fec251",
        "outputId": "5c4a2e0e-6d02-4118-978e-b5ed927fab6c"
      },
      "outputs": [
        {
          "name": "stdout",
          "output_type": "stream",
          "text": [
            "[34, 56, 77, 99, 87, 100]\n"
          ]
        }
      ],
      "source": [
        "listtwo.append(34)\n",
        "listtwo.append(56)\n",
        "listtwo.append(77)\n",
        "listtwo.append(99)\n",
        "listtwo.append(87)\n",
        "listtwo.append(100)\n",
        "print(listtwo)"
      ]
    },
    {
      "cell_type": "raw",
      "id": "67997884",
      "metadata": {
        "id": "67997884"
      },
      "source": [
        "What is the difference between list creation using [] and using list() ?\n",
        "\n",
        "new = [1.2.3]\n",
        "Here new is the variable that points to the [1,2,3], new itself is not the list\n",
        "while list([1,2,3]) is function in python which returns a list\n",
        "\n",
        "[] is faster than list()\n",
        "\n",
        "list() requires a global lookup and a function call but [] compiles to a single instruction\n",
        "list() converts string into a list object while [] creates a list"
      ]
    },
    {
      "cell_type": "code",
      "execution_count": null,
      "id": "c302742e",
      "metadata": {
        "id": "c302742e",
        "outputId": "b1b41dad-ede3-45ec-d769-b08830f41c76"
      },
      "outputs": [
        {
          "name": "stdout",
          "output_type": "stream",
          "text": [
            "[]\n"
          ]
        }
      ],
      "source": [
        "listthree = []\n",
        "print(listthree)"
      ]
    },
    {
      "cell_type": "code",
      "execution_count": null,
      "id": "f8d4e376",
      "metadata": {
        "id": "f8d4e376",
        "outputId": "a2c778aa-79bf-45ed-8d28-6d9b3693bdbf"
      },
      "outputs": [
        {
          "name": "stdout",
          "output_type": "stream",
          "text": [
            "[45, 66, 77, 91, 29]\n"
          ]
        }
      ],
      "source": [
        "listthree.extend([45,66,77,91,29])\n",
        "print(listthree)"
      ]
    },
    {
      "cell_type": "code",
      "execution_count": null,
      "id": "f307f16b",
      "metadata": {
        "id": "f307f16b",
        "outputId": "b2a1c658-7784-44b8-a52d-f899fd8124b7"
      },
      "outputs": [
        {
          "name": "stdout",
          "output_type": "stream",
          "text": [
            "[45, 66, 77, 91, 29]\n"
          ]
        }
      ],
      "source": [
        "listfour = []\n",
        "listfour = listthree.copy()\n",
        "print(listfour)"
      ]
    },
    {
      "cell_type": "code",
      "execution_count": null,
      "id": "18e9e854",
      "metadata": {
        "id": "18e9e854"
      },
      "outputs": [],
      "source": []
    }
  ],
  "metadata": {
    "kernelspec": {
      "display_name": "Python 3 (ipykernel)",
      "language": "python",
      "name": "python3"
    },
    "language_info": {
      "codemirror_mode": {
        "name": "ipython",
        "version": 3
      },
      "file_extension": ".py",
      "mimetype": "text/x-python",
      "name": "python",
      "nbconvert_exporter": "python",
      "pygments_lexer": "ipython3",
      "version": "3.10.13"
    },
    "colab": {
      "provenance": [],
      "include_colab_link": true
    }
  },
  "nbformat": 4,
  "nbformat_minor": 5
}